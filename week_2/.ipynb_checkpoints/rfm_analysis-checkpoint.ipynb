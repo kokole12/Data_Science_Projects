{
 "cells": [
  {
   "cell_type": "code",
   "execution_count": 1,
   "id": "4fc4d990-dae4-4804-8125-8dddfe96262c",
   "metadata": {},
   "outputs": [
    {
     "data": {
      "text/plain": [
       "180"
      ]
     },
     "execution_count": 1,
     "metadata": {},
     "output_type": "execute_result"
    }
   ],
   "source": [
    "import pandas as pd\n",
    "import numpy as np\n",
    "import matplotlib.pyplot as plt\n",
    "from datetime import datetime\n",
    "\n",
    "# reading the data set\n",
    "data = pd.read_csv('rfm_data.csv', parse_dates=['PurchaseDate'])\n",
    "data.shape\n",
    "\n",
    "df = data.copy()\n",
    "\n",
    "df.columns\n",
    "\n",
    "# data cleaning for frm analysis\n",
    "columns = ['OrderID', 'CustomerID', 'PurchaseDate', 'TransactionAmount']\n",
    "\n",
    "df_dataset = df[columns]\n",
    "\n",
    "today_date  = pd.to_datetime('2023-10-8')\n",
    "\n",
    "# generating rfm values\n",
    "rfm_dataset = df_dataset.groupby('CustomerID').agg({\n",
    "    'PurchaseDate': lambda v: (today_date - v.max()).days,\n",
    "    'OrderID': 'count',\n",
    "    'TransactionAmount': 'sum'\n",
    "})\n",
    "\n",
    "# renaming the columns\n",
    "rfm_dataset.rename(\n",
    "    columns = {\n",
    "        'PurchaseDate': 'Recency',\n",
    "        'OrderID': 'Frequency',\n",
    "        'TransactionAmount': 'Monitory'\n",
    "    },\n",
    "    inplace = True\n",
    ")\n",
    "rfm_dataset['Recency'].min()\n",
    "rfm_dataset['Recency'].max()\n",
    "\n",
    "# r = pd.qcut(rfm_dataset['Recency'], q=3, labels=range(5, 0, -1))\n",
    "# f = pd.qcut(rfm_dataset['Frequency'], q=3, labels=range(1, 3))"
   ]
  },
  {
   "cell_type": "code",
   "execution_count": null,
   "id": "83fd6c13-df8e-450c-8f25-4e5059c0c754",
   "metadata": {},
   "outputs": [],
   "source": []
  }
 ],
 "metadata": {
  "kernelspec": {
   "display_name": "Python 3 (ipykernel)",
   "language": "python",
   "name": "python3"
  },
  "language_info": {
   "codemirror_mode": {
    "name": "ipython",
    "version": 3
   },
   "file_extension": ".py",
   "mimetype": "text/x-python",
   "name": "python",
   "nbconvert_exporter": "python",
   "pygments_lexer": "ipython3",
   "version": "3.10.12"
  }
 },
 "nbformat": 4,
 "nbformat_minor": 5
}
